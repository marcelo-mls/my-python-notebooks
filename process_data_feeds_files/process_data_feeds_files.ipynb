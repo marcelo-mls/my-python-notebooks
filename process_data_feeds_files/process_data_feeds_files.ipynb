{
 "cells": [
  {
   "cell_type": "markdown",
   "id": "9d0fefef-de2a-4fc5-af79-ecd1bd232617",
   "metadata": {},
   "source": [
    "# Processar extrações do [Data Feeds](https://experienceleague.adobe.com/en/docs/analytics/export/ftp-and-sftp/set-up-ftp-accounts/ftp-datafeeds)\n",
    "\n",
    "Este notebook processa e filtra grandes volumes de dados de arquivos em formato TSV, extraídos do Data Feeds. O código lê os arquivos .tsv alocados em uma pasta de entrada, aplica filtragem com base em valores pré-definidos de uma coluna e salva os resultados em um arquivo CSV em uma pasta de saída. Ele também é otimizado para lidar com arquivos de grandes dimensões por meio de leitura em chunks."
   ]
  },
  {
   "cell_type": "markdown",
   "id": "a7f0d47e-e2c2-4f03-be54-f25ae4937fca",
   "metadata": {},
   "source": [
    "## Configuração dos diretórios e arquivos"
   ]
  },
  {
   "cell_type": "code",
   "execution_count": 3,
   "id": "37d6fd75-6351-4e1e-969b-44572da14096",
   "metadata": {},
   "outputs": [
    {
     "name": "stdout",
     "output_type": "stream",
     "text": [
      "C:\\Users\\MarceloMarques\\Desktop\\python\\Jupyter\\process_data_feeds_files\n"
     ]
    }
   ],
   "source": [
    "import pandas as pd\n",
    "from pathlib import Path\n",
    "\n",
    "# Definindo a pasta base a partir da localização do notebook\n",
    "base_dir = Path.cwd()  # Ou Path().resolve()\n",
    "print(base_dir)"
   ]
  },
  {
   "cell_type": "code",
   "execution_count": 4,
   "id": "2c6ccf89-c8d9-43a2-a6dc-8cd71b1ecdd6",
   "metadata": {},
   "outputs": [
    {
     "name": "stdout",
     "output_type": "stream",
     "text": [
      "C:\\Users\\MarceloMarques\\Desktop\\python\\Jupyter\\process_data_feeds_files\\inputs\n",
      "C:\\Users\\MarceloMarques\\Desktop\\python\\Jupyter\\process_data_feeds_files\\outputs\n",
      "C:\\Users\\MarceloMarques\\Desktop\\python\\Jupyter\\process_data_feeds_files\\inputs\\headers\\columns.csv\n",
      "C:\\Users\\MarceloMarques\\Desktop\\python\\Jupyter\\process_data_feeds_files\\outputs\\filtered_data.csv\n"
     ]
    }
   ],
   "source": [
    "# Definindo diretórios de entrada e saída relativos à pasta base\n",
    "input_dir = base_dir / 'inputs'\n",
    "output_dir = base_dir / 'outputs'\n",
    "headers_file = input_dir / 'headers' / 'columns.csv'\n",
    "\n",
    "# Certifica-se de que o diretório de saída existe\n",
    "output_dir.mkdir(exist_ok=True)\n",
    "\n",
    "# Definindo o arquivo de saída\n",
    "output_file = output_dir / 'filtered_data.csv'\n",
    "\n",
    "print(input_dir)\n",
    "print(output_dir)\n",
    "print(headers_file)\n",
    "print(output_file)"
   ]
  },
  {
   "cell_type": "markdown",
   "id": "27c249f0-ec86-4f72-938d-ddccbc5e2b67",
   "metadata": {},
   "source": [
    "⚠️ Certifique-se de que adicionou corretamente o arquivo com os cabeçalhos na pasta de entrada"
   ]
  },
  {
   "cell_type": "code",
   "execution_count": 5,
   "id": "d0ff5e06-8ffe-44dd-940a-9356b6b71800",
   "metadata": {},
   "outputs": [
    {
     "data": {
      "text/plain": [
       "['date_time',\n",
       " 'visit_num',\n",
       " 'visit_page_num',\n",
       " 'visit_start_pagename',\n",
       " 'new_visit',\n",
       " 'visid_timestamp',\n",
       " 'visid_type',\n",
       " 'post_visid_type',\n",
       " 'visit_start_page_url',\n",
       " 'visid_high',\n",
       " 'visid_low',\n",
       " 'mcvisid',\n",
       " 'post_visid_high',\n",
       " 'post_visid_low',\n",
       " 'visid_new',\n",
       " 'evar113',\n",
       " 'post_evar113',\n",
       " 'evar112',\n",
       " 'post_evar112',\n",
       " 'evar48',\n",
       " 'post_evar48',\n",
       " 'mobiledevice',\n",
       " 'post_mobiledevice',\n",
       " 'code_ver',\n",
       " 'campaign',\n",
       " 'post_campaign',\n",
       " 'va_closer_id',\n",
       " 'pagename',\n",
       " 'evar1',\n",
       " 'post_evar1',\n",
       " 'last_hit_time_gmt']"
      ]
     },
     "execution_count": 5,
     "metadata": {},
     "output_type": "execute_result"
    }
   ],
   "source": [
    "# Lendo os cabeçalhos a partir do arquivo columns.csv, ignorando a primeira linha\n",
    "headers_df = pd.read_csv(headers_file, skiprows=1, header=None)\n",
    "# Converte o conteúdo da primeira coluna em uma lista\n",
    "headers = headers_df[0].tolist() \n",
    "\n",
    "# Inicializando um DataFrame vazio para armazenar os dados concatenados\n",
    "concatenated_df = pd.DataFrame(columns=headers)\n",
    "\n",
    "headers"
   ]
  },
  {
   "cell_type": "markdown",
   "id": "14d58545-a3a6-4cfc-915e-cf256419c4db",
   "metadata": {},
   "source": [
    "## Configuração dos filtros\n",
    "Nesta seção, você pode definir funções de filtragem que serão utilizadas para processar os chunks de dados durante o loop. Cada função de filtro deve receber, no mínimo, o parâmetro `chunk`, que representa uma fração do arquivo de dados a ser processada. Essas funções aplicam as regras de filtragem desejadas e retornam o conjunto de dados filtrado, permitindo que o código seja mais flexível e adaptável a diferentes necessidades de filtragem.\n",
    "\n",
    "**Edite manualmente o trecho abaixo 👇**"
   ]
  },
  {
   "cell_type": "markdown",
   "id": "20929a74-d3a7-4768-bd6d-2b5d5c1acca0",
   "metadata": {},
   "source": [
    "### Variáveis\n",
    "Informe o nome da coluna que deseja filtrar, e os valores que serão filtrados"
   ]
  },
  {
   "cell_type": "code",
   "execution_count": 6,
   "id": "798ec619-399c-4ab0-bbca-eae5a666ce9a",
   "metadata": {},
   "outputs": [
    {
     "name": "stdout",
     "output_type": "stream",
     "text": [
      "pagename ['9660420', '35386133', '35399359', '36348153', '53002692', '61551127', '83588016', '101994894', '104312857']\n"
     ]
    }
   ],
   "source": [
    "# Informe o nome da coluna a ser filtrada\n",
    "filter_column = 'post_evar48'\n",
    "\n",
    "# Informe os valores que serão filtrados na coluna. OBS: Os valores devem ser passado como string\n",
    "filter_values = [\n",
    "    \"9660420\",\n",
    "    \"35386133\",\n",
    "    \"35399359\",\n",
    "    \"36348153\",\n",
    "    \"53002692\", \n",
    "    \"61551127\",\n",
    "    \"83588016\",\n",
    "    \"101994894\",\n",
    "    \"104312857\"\n",
    "]\n",
    "print(filter_column, filter_values)"
   ]
  },
  {
   "cell_type": "markdown",
   "id": "9dccbb13-89b6-40bd-a762-8c7ae42a5071",
   "metadata": {},
   "source": [
    "### Funções\n",
    "Defina funções que serão utilizadas para filtrar os chunks de dados durante o processamento. OBS: Execute apenas a célula da função que de fato fará a filtragem."
   ]
  },
  {
   "cell_type": "code",
   "execution_count": null,
   "id": "c665f297-b0e7-43bb-ad12-f2f639c89c47",
   "metadata": {},
   "outputs": [],
   "source": [
    "# Função filtrar por valores específicos em uma coluna\n",
    "def filter_function(chunk):\n",
    "    # Filtrando as linhas onde a coluna de filtro contém os valores especificados\n",
    "    return chunk[chunk[filter_column].isin(filter_values)]"
   ]
  },
  {
   "cell_type": "code",
   "execution_count": 7,
   "id": "61ca37b8-899b-4eee-bc84-8e2f17a122d8",
   "metadata": {},
   "outputs": [],
   "source": [
    "# Função para filtrar baseado no número de caracteres de uma coluna\n",
    "def filter_function(chunk):\n",
    "    # Exemplo: Filtrando as linhas onde o conteúdo da coluna tem 23 ou mais caracteres\n",
    "    return chunk[chunk[filter_column].str.len() >= 23]"
   ]
  },
  {
   "cell_type": "markdown",
   "id": "cd8ad304-8e08-409e-8283-f60cd7427200",
   "metadata": {},
   "source": [
    "## Processamento dos arquivos"
   ]
  },
  {
   "cell_type": "code",
   "execution_count": 8,
   "id": "26d5dd0b",
   "metadata": {},
   "outputs": [
    {
     "name": "stdout",
     "output_type": "stream",
     "text": [
      "Número de arquivos .tsv encontrados: 4\n"
     ]
    }
   ],
   "source": [
    "tsv_files = input_dir.glob('*.tsv')\n",
    "tsv_files_list = list(tsv_files)  # Converte o iterador em uma lista\n",
    "print(f\"Número de arquivos .tsv encontrados: {len(tsv_files_list)}\")"
   ]
  },
  {
   "cell_type": "code",
   "execution_count": 9,
   "id": "24544b1b",
   "metadata": {},
   "outputs": [
    {
     "name": "stdout",
     "output_type": "stream",
     "text": [
      "\n",
      "Processando arquivo: 01-bancopansa.production_20240824-010000.tsv ...\n",
      "  ...chunk 1\n",
      "1318 resultados encontrados\n",
      "  ...chunk 2\n",
      "1257 resultados encontrados\n",
      "  ...chunk 3\n",
      "1199 resultados encontrados\n",
      "  ...chunk 4\n",
      "1360 resultados encontrados\n",
      "  ...chunk 5\n",
      "982 resultados encontrados\n",
      "  ...chunk 6\n",
      "1032 resultados encontrados\n",
      "  ...chunk 7\n",
      "1218 resultados encontrados\n",
      "  ...chunk 8\n",
      "922 resultados encontrados\n",
      "  ...chunk 9\n",
      "1308 resultados encontrados\n",
      "  ...chunk 10\n",
      "1038 resultados encontrados\n",
      "  ...chunk 11\n",
      "982 resultados encontrados\n",
      "  ...chunk 12\n",
      "1308 resultados encontrados\n",
      "  ...chunk 13\n",
      "859 resultados encontrados\n",
      "  ...chunk 14\n",
      "823 resultados encontrados\n",
      "  ...chunk 15\n",
      "1315 resultados encontrados\n",
      "  ...chunk 16\n",
      "1429 resultados encontrados\n",
      "  ...chunk 17\n",
      "1094 resultados encontrados\n",
      "  ...chunk 18\n",
      "822 resultados encontrados\n",
      "  ...chunk 19\n",
      "1147 resultados encontrados\n",
      "  ...chunk 20\n",
      "1350 resultados encontrados\n",
      "  ...chunk 21\n",
      "1260 resultados encontrados\n",
      "  ...chunk 22\n",
      "1316 resultados encontrados\n",
      "  ...chunk 23\n",
      "1212 resultados encontrados\n",
      "  ...chunk 24\n",
      "973 resultados encontrados\n",
      "  ...chunk 25\n",
      "1213 resultados encontrados\n",
      "  ...chunk 26\n",
      "967 resultados encontrados\n",
      "Arquivo 01-bancopansa.production_20240824-010000.tsv processado com sucesso.\n",
      "\n",
      "Processando arquivo: 01-bancopansa.production_20240824-090000.tsv ...\n",
      "  ...chunk 1\n",
      "1093 resultados encontrados\n",
      "  ...chunk 2\n",
      "1304 resultados encontrados\n",
      "  ...chunk 3\n",
      "883 resultados encontrados\n",
      "  ...chunk 4\n",
      "1002 resultados encontrados\n",
      "  ...chunk 5\n",
      "1253 resultados encontrados\n",
      "  ...chunk 6\n",
      "1333 resultados encontrados\n",
      "  ...chunk 7\n",
      "1624 resultados encontrados\n",
      "  ...chunk 8\n",
      "1450 resultados encontrados\n",
      "  ...chunk 9\n",
      "1122 resultados encontrados\n",
      "  ...chunk 10\n",
      "926 resultados encontrados\n",
      "  ...chunk 11\n",
      "698 resultados encontrados\n",
      "  ...chunk 12\n",
      "614 resultados encontrados\n",
      "  ...chunk 13\n",
      "1292 resultados encontrados\n",
      "  ...chunk 14\n",
      "1097 resultados encontrados\n",
      "  ...chunk 15\n",
      "1002 resultados encontrados\n",
      "  ...chunk 16\n",
      "1010 resultados encontrados\n",
      "  ...chunk 17\n",
      "1317 resultados encontrados\n",
      "  ...chunk 18\n",
      "1341 resultados encontrados\n",
      "  ...chunk 19\n",
      "1413 resultados encontrados\n",
      "  ...chunk 20\n",
      "1304 resultados encontrados\n",
      "  ...chunk 21\n",
      "1069 resultados encontrados\n",
      "  ...chunk 22\n",
      "1118 resultados encontrados\n",
      "  ...chunk 23\n",
      "1227 resultados encontrados\n",
      "  ...chunk 24\n",
      "1121 resultados encontrados\n",
      "  ...chunk 25\n",
      "1506 resultados encontrados\n",
      "  ...chunk 26\n",
      "1228 resultados encontrados\n",
      "  ...chunk 27\n",
      "1405 resultados encontrados\n",
      "  ...chunk 28\n",
      "1415 resultados encontrados\n",
      "  ...chunk 29\n",
      "1183 resultados encontrados\n",
      "  ...chunk 30\n",
      "1329 resultados encontrados\n",
      "  ...chunk 31\n",
      "1208 resultados encontrados\n",
      "  ...chunk 32\n",
      "1028 resultados encontrados\n",
      "  ...chunk 33\n",
      "900 resultados encontrados\n",
      "  ...chunk 34\n",
      "1637 resultados encontrados\n",
      "  ...chunk 35\n",
      "1531 resultados encontrados\n",
      "  ...chunk 36\n",
      "962 resultados encontrados\n",
      "  ...chunk 37\n",
      "1250 resultados encontrados\n",
      "  ...chunk 38\n",
      "1121 resultados encontrados\n",
      "  ...chunk 39\n",
      "1146 resultados encontrados\n",
      "  ...chunk 40\n",
      "648 resultados encontrados\n",
      "Arquivo 01-bancopansa.production_20240824-090000.tsv processado com sucesso.\n",
      "\n",
      "Processando arquivo: 02-bancopansa.production_20240824-090000.tsv ...\n",
      "  ...chunk 1\n",
      "1091 resultados encontrados\n",
      "  ...chunk 2\n",
      "1583 resultados encontrados\n",
      "  ...chunk 3\n",
      "1070 resultados encontrados\n",
      "  ...chunk 4\n",
      "1596 resultados encontrados\n",
      "  ...chunk 5\n",
      "1229 resultados encontrados\n",
      "  ...chunk 6\n",
      "1350 resultados encontrados\n",
      "  ...chunk 7\n",
      "1083 resultados encontrados\n",
      "  ...chunk 8\n",
      "1172 resultados encontrados\n",
      "  ...chunk 9\n",
      "1232 resultados encontrados\n",
      "  ...chunk 10\n",
      "1301 resultados encontrados\n",
      "  ...chunk 11\n",
      "1043 resultados encontrados\n",
      "  ...chunk 12\n",
      "1121 resultados encontrados\n",
      "  ...chunk 13\n",
      "1121 resultados encontrados\n",
      "  ...chunk 14\n",
      "1084 resultados encontrados\n",
      "  ...chunk 15\n",
      "1058 resultados encontrados\n",
      "  ...chunk 16\n",
      "1361 resultados encontrados\n",
      "  ...chunk 17\n",
      "1214 resultados encontrados\n",
      "  ...chunk 18\n",
      "1327 resultados encontrados\n",
      "  ...chunk 19\n",
      "1277 resultados encontrados\n",
      "  ...chunk 20\n",
      "1011 resultados encontrados\n",
      "  ...chunk 21\n",
      "888 resultados encontrados\n",
      "  ...chunk 22\n",
      "1176 resultados encontrados\n",
      "  ...chunk 23\n",
      "1138 resultados encontrados\n",
      "  ...chunk 24\n",
      "1005 resultados encontrados\n",
      "  ...chunk 25\n",
      "1058 resultados encontrados\n",
      "  ...chunk 26\n",
      "1185 resultados encontrados\n",
      "  ...chunk 27\n",
      "1460 resultados encontrados\n",
      "  ...chunk 28\n",
      "1584 resultados encontrados\n",
      "  ...chunk 29\n",
      "1578 resultados encontrados\n",
      "  ...chunk 30\n",
      "1131 resultados encontrados\n",
      "  ...chunk 31\n",
      "1331 resultados encontrados\n",
      "  ...chunk 32\n",
      "1148 resultados encontrados\n",
      "  ...chunk 33\n",
      "1307 resultados encontrados\n",
      "  ...chunk 34\n",
      "1202 resultados encontrados\n",
      "  ...chunk 35\n",
      "1509 resultados encontrados\n",
      "  ...chunk 36\n",
      "993 resultados encontrados\n",
      "  ...chunk 37\n",
      "920 resultados encontrados\n",
      "  ...chunk 38\n",
      "1104 resultados encontrados\n",
      "  ...chunk 39\n",
      "1150 resultados encontrados\n",
      "  ...chunk 40\n",
      "1263 resultados encontrados\n",
      "  ...chunk 41\n",
      "669 resultados encontrados\n",
      "Arquivo 02-bancopansa.production_20240824-090000.tsv processado com sucesso.\n",
      "\n",
      "Processando arquivo: 03-bancopansa.production_20240824-090000.tsv ...\n",
      "  ...chunk 1\n",
      "1559 resultados encontrados\n",
      "  ...chunk 2\n",
      "1183 resultados encontrados\n",
      "  ...chunk 3\n",
      "1144 resultados encontrados\n",
      "  ...chunk 4\n",
      "1305 resultados encontrados\n",
      "  ...chunk 5\n",
      "1280 resultados encontrados\n",
      "  ...chunk 6\n",
      "1085 resultados encontrados\n",
      "  ...chunk 7\n",
      "1121 resultados encontrados\n",
      "  ...chunk 8\n",
      "1198 resultados encontrados\n",
      "  ...chunk 9\n",
      "1053 resultados encontrados\n",
      "  ...chunk 10\n",
      "1620 resultados encontrados\n",
      "  ...chunk 11\n",
      "869 resultados encontrados\n",
      "Arquivo 03-bancopansa.production_20240824-090000.tsv processado com sucesso.\n"
     ]
    }
   ],
   "source": [
    "# Definindo o tamanho dos chunks (ex: 100.000 linhas por vez)\n",
    "chunk_size = 100000\n",
    "\n",
    "# Iterando sobre todos os arquivos .tsv na pasta de entrada\n",
    "for file_path in input_dir.glob('*.tsv'):\n",
    "    print(f\"\\nProcessando arquivo: {file_path.name} ...\")\n",
    "    \n",
    "    # Leitura do arquivo em chunks para evitar sobrecarga de memória. OBS: Todas as colunas são lidas como string\n",
    "    chunks = pd.read_csv(file_path, sep='\\t', header=None, names=headers, chunksize=chunk_size, low_memory=True, dtype=str)\n",
    "\n",
    "    # Processando cada chunk\n",
    "    for i, chunk in enumerate(chunks):\n",
    "        print(f\"  ...chunk {i + 1}\")  # Informação sobre o chunk atual\n",
    "        \n",
    "        # Filtrando as linhas onde a coluna de filtro contém os valores especificados\n",
    "        filtered_chunk = filter_function(chunk)\n",
    "        \n",
    "        # Exibindo quantos resultados foram encontrados no chunk atual\n",
    "        if len(filtered_chunk) > 0:\n",
    "            print(f\"{len(filtered_chunk)} resultados encontrados\")\n",
    "        \n",
    "        # Concatenando ao DataFrame principal\n",
    "        concatenated_df = pd.concat([concatenated_df, filtered_chunk], ignore_index=True)\n",
    "    \n",
    "    print(f\"Arquivo {file_path.name} processado com sucesso.\")"
   ]
  },
  {
   "cell_type": "code",
   "execution_count": 10,
   "id": "4e90bf28-9e65-4143-b007-edd89809eae0",
   "metadata": {},
   "outputs": [
    {
     "name": "stdout",
     "output_type": "stream",
     "text": [
      "\n",
      "Dados filtrados foram salvos em C:\\Users\\MarceloMarques\\Desktop\\python\\Jupyter\\process_data_feeds_files\\outputs\\filtered_data.csv.\n"
     ]
    }
   ],
   "source": [
    "# Salvando o DataFrame concatenado em um arquivo .csv\n",
    "concatenated_df.to_csv(output_file, index=False)\n",
    "\n",
    "print(f\"\\nDados filtrados foram salvos em {output_file}.\")"
   ]
  },
  {
   "cell_type": "code",
   "execution_count": null,
   "id": "84cfa905-92a8-4d06-b9a6-a6b9f45a5aed",
   "metadata": {},
   "outputs": [],
   "source": []
  }
 ],
 "metadata": {
  "kernelspec": {
   "display_name": "Python 3 (ipykernel)",
   "language": "python",
   "name": "python3"
  },
  "language_info": {
   "codemirror_mode": {
    "name": "ipython",
    "version": 3
   },
   "file_extension": ".py",
   "mimetype": "text/x-python",
   "name": "python",
   "nbconvert_exporter": "python",
   "pygments_lexer": "ipython3",
   "version": "3.12.4"
  }
 },
 "nbformat": 4,
 "nbformat_minor": 5
}
